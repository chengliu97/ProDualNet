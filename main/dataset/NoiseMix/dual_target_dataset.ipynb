{
 "cells": [
  {
   "cell_type": "code",
   "execution_count": 1,
   "id": "b383c6b5-eb26-43d6-b184-e9d0c3ed7bea",
   "metadata": {
    "tags": []
   },
   "outputs": [
    {
     "name": "stderr",
     "output_type": "stream",
     "text": [
      "/dssg/home/acct-clsyzs/clsyzs/.conda/envs/esm_dds/lib/python3.7/site-packages/tqdm/auto.py:21: TqdmWarning: IProgress not found. Please update jupyter and ipywidgets. See https://ipywidgets.readthedocs.io/en/stable/user_install.html\n",
      "  from .autonotebook import tqdm as notebook_tqdm\n"
     ]
    }
   ],
   "source": [
    "import torch\n",
    "import numpy as np \n",
    "import pandas as pd"
   ]
  },
  {
   "cell_type": "code",
   "execution_count": 43,
   "id": "24d7c9d6-9c18-400c-9141-7bffe8a50445",
   "metadata": {
    "tags": []
   },
   "outputs": [
    {
     "name": "stderr",
     "output_type": "stream",
     "text": [
      "/tmp/ipykernel_1473388/3399517390.py:1: FutureWarning: You are using `torch.load` with `weights_only=False` (the current default value), which uses the default pickle module implicitly. It is possible to construct malicious pickle data which will execute arbitrary code during unpickling (See https://github.com/pytorch/pytorch/blob/main/SECURITY.md#untrusted-models for more details). In a future release, the default value for `weights_only` will be flipped to `True`. This limits the functions that could be executed during unpickling. Arbitrary objects will no longer be allowed to be loaded via this mode unless they are explicitly allowlisted by the user via `torch.serialization.add_safe_globals`. We recommend you start setting `weights_only=True` for any use case where you don't have full control of the loaded file. Please open an issue on GitHub for any issues related to this experimental feature.\n",
      "  x = torch.load(\"./x_train_multi.pt\")\n",
      "/tmp/ipykernel_1473388/3399517390.py:2: FutureWarning: You are using `torch.load` with `weights_only=False` (the current default value), which uses the default pickle module implicitly. It is possible to construct malicious pickle data which will execute arbitrary code during unpickling (See https://github.com/pytorch/pytorch/blob/main/SECURITY.md#untrusted-models for more details). In a future release, the default value for `weights_only` will be flipped to `True`. This limits the functions that could be executed during unpickling. Arbitrary objects will no longer be allowed to be loaded via this mode unless they are explicitly allowlisted by the user via `torch.serialization.add_safe_globals`. We recommend you start setting `weights_only=True` for any use case where you don't have full control of the loaded file. Please open an issue on GitHub for any issues related to this experimental feature.\n",
      "  dict_x = torch.load(\"/dssg/home/acct-clsyzs/clsyzs/C1/diff_pdb/dict_x_pair_def_train.pt\")\n"
     ]
    }
   ],
   "source": [
    "x = torch.load(\"./x_train_multi.pt\")"
   ]
  },
  {
   "cell_type": "code",
   "execution_count": 11,
   "id": "4890ad2b-1ad9-4d04-aa8c-02a25b0c6c60",
   "metadata": {
    "tags": []
   },
   "outputs": [],
   "source": [
    "x_test = torch.load(\"./x_test_multi.pt\")"
   ]
  },
  {
   "cell_type": "code",
   "execution_count": null,
   "id": "284f52c7-1b8b-4b37-89db-0664800f67a1",
   "metadata": {},
   "outputs": [],
   "source": []
  },
  {
   "cell_type": "code",
   "execution_count": 2,
   "id": "c9380d09-2e71-46de-bce0-f2f82b28343c",
   "metadata": {
    "tags": []
   },
   "outputs": [],
   "source": [
    "x_test_sim_rmsd = torch.load(\"x_test_sim_rmsd.pt\")"
   ]
  },
  {
   "cell_type": "code",
   "execution_count": 3,
   "id": "3858d7cb-8d68-4a86-ac68-92966c6dc856",
   "metadata": {
    "tags": []
   },
   "outputs": [],
   "source": [
    "x_train_sim_rmsd = torch.load(\"x_train_sim_rmsd.pt\")"
   ]
  },
  {
   "cell_type": "markdown",
   "id": "f1a7e092-2612-4a99-89f6-2f3833b36606",
   "metadata": {},
   "source": [
    "# Filter the dataset based on different conditions."
   ]
  },
  {
   "cell_type": "code",
   "execution_count": 4,
   "id": "38453336-2fc2-4f35-840d-6a4a387efbea",
   "metadata": {
    "tags": []
   },
   "outputs": [],
   "source": [
    "def dict_sim_rmsd(dict_1, sim = None,rmsd = None):\n",
    "    dict_2 = {}\n",
    "    for i in dict_1:\n",
    "        dict_3 = {}\n",
    "        for j in dict_1[i]:\n",
    "            if sim != None and rmsd!= None:\n",
    "                if dict_1[i][j][-1][1]<=sim and dict_1[i][j][-1][0]>=rmsd:\n",
    "                    dict_3[j] = dict_1[i][j]#[:2]\n",
    "            elif sim != None and rmsd== None:\n",
    "                if dict_1[i][j][-1][1]<=sim:\n",
    "                    dict_3[j] = dict_1[i][j]#[:2]\n",
    "            elif sim == None and rmsd != None:\n",
    "                if dict_1[i][j][-1][0]>=rmsd:\n",
    "                    dict_3[j] = dict_1[i][j]#[:2]\n",
    "        if dict_3 != {}:\n",
    "            dict_2[i] = dict_3\n",
    "    return dict_2\n",
    "                    "
   ]
  },
  {
   "cell_type": "code",
   "execution_count": 15,
   "id": "89f03fbb-772d-4dff-9139-0eb4363b2ece",
   "metadata": {
    "tags": []
   },
   "outputs": [],
   "source": [
    "dict_2 = dict_sim_rmsd(x_test_sim_rmsd,0.2,0)\n",
    "# Filter the dataset according to sequence similarity and RMSD values."
   ]
  },
  {
   "cell_type": "code",
   "execution_count": 27,
   "id": "e0fe671f-3168-4979-8e31-6c50cafe4328",
   "metadata": {
    "tags": []
   },
   "outputs": [
    {
     "name": "stdout",
     "output_type": "stream",
     "text": [
      "Identify dual-target pairs that satisfy the specified conditions: 3076\n"
     ]
    }
   ],
   "source": [
    "ns = 0\n",
    "for i in dict_2:\n",
    "    ns+=len(dict_2[i])\n",
    "print(\"Identify dual-target pairs that satisfy the specified conditions:\", ns)"
   ]
  },
  {
   "cell_type": "code",
   "execution_count": 28,
   "id": "ab925dc1-4877-45e5-9e93-53cd9da0e054",
   "metadata": {
    "tags": []
   },
   "outputs": [],
   "source": [
    "import pandas as pd\n",
    "\n",
    "data_all = pd.read_csv('./pdb_2021aug02/list.csv')\n",
    "cluster = data_all.CLUSTER.tolist()\n",
    "chainid = data_all.CHAINID.tolist()\n",
    "lst_chain_cluster = {}\n",
    "for i in range(len(chainid)):\n",
    "    lst_chain_cluster[chainid[i]] = cluster[i]"
   ]
  },
  {
   "cell_type": "code",
   "execution_count": 29,
   "id": "36011bd4-007e-4bcd-9a8e-3e759beaadbc",
   "metadata": {
    "tags": []
   },
   "outputs": [],
   "source": [
    "lst_name = []\n",
    "lst_cluster_s = []\n",
    "dict_chainid_cluster = {}\n",
    "for i in dict_2:\n",
    "    for j in dict_2[i]:\n",
    "        \n",
    "        if lst_chain_cluster[x_test[j][\"name\"]] in dict_chainid_cluster.keys():\n",
    "            if list(set([i,j])) not in dict_chainid_cluster[lst_chain_cluster[x_test[j][\"name\"]]]:\n",
    "                dict_chainid_cluster[lst_chain_cluster[x_test[j][\"name\"]]].append(list(set([i,j])))\n",
    "                \n",
    "        else:\n",
    "            dict_chainid_cluster[lst_chain_cluster[x_test[j][\"name\"]]] = [list(set([i,j]))]\n",
    "        "
   ]
  },
  {
   "cell_type": "code",
   "execution_count": 33,
   "id": "2ab72fc1-c15c-4b88-8419-d3ac62d824e6",
   "metadata": {
    "tags": []
   },
   "outputs": [],
   "source": [
    "ns = 0\n",
    "for i in dict_chainid_cluster:\n",
    "    ns+=len(dict_chainid_cluster[i])\n",
    "print(\"Identify dual-target clusters that satisfy the specified conditions:\", len(dict_chainid_cluster)) "
   ]
  },
  {
   "cell_type": "code",
   "execution_count": null,
   "id": "42a3872b-acfb-44fc-b25c-189607ad7fe5",
   "metadata": {
    "tags": []
   },
   "outputs": [],
   "source": []
  },
  {
   "cell_type": "code",
   "execution_count": 35,
   "id": "7372cd8d-1ac9-4a95-8d76-b3045aa8fc0c",
   "metadata": {
    "tags": []
   },
   "outputs": [
    {
     "name": "stdout",
     "output_type": "stream",
     "text": [
      "cluster_id: 24229 total pair 1\n",
      "cluster_id: 17266 total pair 1106\n",
      "cluster_id: 18108 total pair 227\n",
      "cluster_id: 782 total pair 86\n",
      "cluster_id: 25072 total pair 36\n",
      "cluster_id: 4860 total pair 22\n",
      "cluster_id: 26075 total pair 638\n",
      "cluster_id: 21329 total pair 36\n",
      "cluster_id: 26367 total pair 7\n",
      "cluster_id: 289 total pair 3\n",
      "cluster_id: 14424 total pair 1\n",
      "cluster_id: 20936 total pair 13\n",
      "cluster_id: 14914 total pair 3\n",
      "cluster_id: 16080 total pair 4\n",
      "cluster_id: 6441 total pair 69\n",
      "cluster_id: 14163 total pair 3\n",
      "cluster_id: 9620 total pair 15\n",
      "cluster_id: 27679 total pair 68\n",
      "cluster_id: 950 total pair 267\n",
      "cluster_id: 17633 total pair 22\n",
      "cluster_id: 2767 total pair 1\n",
      "cluster_id: 3552 total pair 11\n",
      "cluster_id: 17437 total pair 5\n",
      "cluster_id: 9964 total pair 1\n",
      "cluster_id: 20865 total pair 1\n",
      "cluster_id: 18932 total pair 4\n",
      "cluster_id: 23505 total pair 6\n",
      "cluster_id: 10354 total pair 3\n",
      "cluster_id: 961 total pair 2\n",
      "cluster_id: 27104 total pair 4\n",
      "cluster_id: 2546 total pair 3\n",
      "cluster_id: 1207 total pair 3\n",
      "cluster_id: 18292 total pair 6\n",
      "cluster_id: 13215 total pair 17\n",
      "cluster_id: 22220 total pair 1\n",
      "cluster_id: 4029 total pair 1\n",
      "cluster_id: 19928 total pair 9\n",
      "cluster_id: 10436 total pair 7\n",
      "cluster_id: 7442 total pair 17\n",
      "cluster_id: 4377 total pair 26\n",
      "cluster_id: 12940 total pair 39\n",
      "cluster_id: 4842 total pair 5\n",
      "cluster_id: 2077 total pair 1\n",
      "cluster_id: 14917 total pair 2\n",
      "cluster_id: 22950 total pair 5\n",
      "cluster_id: 15644 total pair 2\n",
      "cluster_id: 16853 total pair 2\n",
      "cluster_id: 18307 total pair 5\n",
      "cluster_id: 17301 total pair 4\n",
      "cluster_id: 26873 total pair 6\n",
      "cluster_id: 9839 total pair 1\n",
      "cluster_id: 11666 total pair 1\n",
      "cluster_id: 15415 total pair 2\n",
      "cluster_id: 17239 total pair 1\n",
      "cluster_id: 13767 total pair 142\n",
      "cluster_id: 24486 total pair 5\n",
      "cluster_id: 11652 total pair 7\n",
      "cluster_id: 12403 total pair 1\n",
      "cluster_id: 20178 total pair 1\n",
      "cluster_id: 14482 total pair 2\n",
      "cluster_id: 207 total pair 4\n",
      "cluster_id: 20494 total pair 1\n",
      "cluster_id: 15367 total pair 2\n",
      "cluster_id: 25982 total pair 1\n",
      "cluster_id: 17253 total pair 1\n",
      "cluster_id: 382 total pair 3\n",
      "cluster_id: 4259 total pair 1\n",
      "cluster_id: 8863 total pair 1\n",
      "cluster_id: 21680 total pair 1\n",
      "cluster_id: 1197 total pair 22\n",
      "cluster_id: 8319 total pair 2\n",
      "cluster_id: 73 total pair 1\n",
      "cluster_id: 190 total pair 1\n",
      "cluster_id: 8396 total pair 1\n",
      "cluster_id: 26274 total pair 1\n",
      "cluster_id: 12684 total pair 13\n",
      "cluster_id: 23707 total pair 4\n",
      "cluster_id: 20417 total pair 2\n",
      "cluster_id: 17878 total pair 2\n",
      "cluster_id: 19061 total pair 1\n",
      "cluster_id: 12766 total pair 2\n",
      "cluster_id: 24233 total pair 1\n",
      "cluster_id: 23247 total pair 1\n",
      "cluster_id: 24618 total pair 1\n",
      "cluster_id: 23502 total pair 1\n",
      "cluster_id: 4308 total pair 1\n",
      "cluster_id: 8884 total pair 1\n",
      "cluster_id: 25659 total pair 1\n",
      "cluster_id: 12029 total pair 2\n",
      "cluster_id: 15743 total pair 2\n",
      "cluster_id: 2446 total pair 1\n",
      "cluster_id: 20182 total pair 6\n",
      "cluster_id: 6648 total pair 1\n",
      "cluster_id: 19822 total pair 1\n"
     ]
    }
   ],
   "source": [
    "for i in dict_chainid_cluster:\n",
    "    print(\"cluster_id:\",i,\"total pair\",len(dict_chainid_cluster[i]))"
   ]
  },
  {
   "cell_type": "markdown",
   "id": "e67250c4-ce03-472a-8f98-aeae87d997e0",
   "metadata": {},
   "source": [
    "# Use a stratified sampling strategy."
   ]
  },
  {
   "cell_type": "code",
   "execution_count": 42,
   "id": "abae7e37-207c-4cd2-9ad2-27f6ce832ac1",
   "metadata": {
    "tags": []
   },
   "outputs": [],
   "source": [
    "#sim 0.3\n",
    "len_cluster = {}\n",
    "ns = 0\n",
    "for i in dict_chainid_cluster:\n",
    "    len_cluster[i] = len(dict_chainid_cluster[i])\n",
    "    if len(dict_chainid_cluster[i])>100:\n",
    "        ns+=10\n",
    "    if 10<=len(dict_chainid_cluster[i])<=100:\n",
    "        ns+=2\n",
    "    else:\n",
    "        ns+=1"
   ]
  },
  {
   "cell_type": "code",
   "execution_count": 36,
   "id": "f236eb2c-f186-4760-a6c3-f360645bcad9",
   "metadata": {
    "tags": []
   },
   "outputs": [],
   "source": [
    "#rmsd 2\n",
    "len_cluster = {}\n",
    "ns = 0\n",
    "for i in dict_chainid_cluster:\n",
    "    len_cluster[i] = len(dict_chainid_cluster[i])\n",
    "    if len(dict_chainid_cluster[i])>100:\n",
    "        ns+=10\n",
    "    if 10<=len(dict_chainid_cluster[i])<=100:\n",
    "        ns+=3\n",
    "    else:\n",
    "        ns+=1"
   ]
  },
  {
   "cell_type": "code",
   "execution_count": null,
   "id": "2ebcb909-0616-4e1a-9198-c323f6eea4e0",
   "metadata": {},
   "outputs": [],
   "source": []
  },
  {
   "cell_type": "code",
   "execution_count": null,
   "id": "0425904c-5dbe-47af-8f52-d40e4b32fa45",
   "metadata": {
    "tags": []
   },
   "outputs": [],
   "source": []
  },
  {
   "cell_type": "code",
   "execution_count": 39,
   "id": "fd790073-a970-4f5c-b84f-9fa2f732894a",
   "metadata": {
    "tags": []
   },
   "outputs": [],
   "source": [
    "import random\n",
    "lst_dict_x = {}\n",
    "for i in dict_chainid_cluster:\n",
    "    lst_pair = dict_chainid_cluster[i]\n",
    "    \n",
    "    len1 = len(lst_pair)\n",
    "    \n",
    "    if len1<=10:\n",
    "         \n",
    "        idx = random.randint(0, len1-1)\n",
    "        keys1,keys2 = lst_pair[idx]\n",
    "        if keys1 in x_test_sim_rmsd.keys():\n",
    "            if keys2 in x_test_sim_rmsd[keys1].keys():\n",
    "                lst_dict_x[keys1] = {keys2: x_test_sim_rmsd[keys1][keys2]}\n",
    "            else:\n",
    "                lst_dict_x[keys2] = {keys1: x_test_sim_rmsd[keys2][keys1]}\n",
    "        \n",
    "        else:\n",
    "            if keys1 in x_test_sim_rmsd[keys2].keys():\n",
    "                lst_dict_x[keys2] = {keys1: x_test_sim_rmsd[keys2][keys1]}\n",
    "            else:\n",
    "                lst_dict_x[keys1] = {keys2: x_test_sim_rmsd[keys1][keys2]}\n",
    "    elif 10<len1<=100:\n",
    "         \n",
    "        idx_lst = random.sample(list(range(len1)), 3)\n",
    "        \n",
    "        for idx in idx_lst:\n",
    "            keys1,keys2 = lst_pair[idx]\n",
    "            if keys1 in x_test_sim_rmsd.keys():\n",
    "                if keys2 in x_test_sim_rmsd[keys1].keys():\n",
    "                    lst_dict_x[keys1] = {keys2: x_test_sim_rmsd[keys1][keys2]}\n",
    "                else:\n",
    "                    lst_dict_x[keys2] = {keys1: x_test_sim_rmsd[keys2][keys1]}\n",
    "        \n",
    "            else:\n",
    "                if keys1 in x_test_sim_rmsd[keys2].keys():\n",
    "                    lst_dict_x[keys2] = {keys1: x_test_sim_rmsd[keys2][keys1]}\n",
    "                else:\n",
    "                    lst_dict_x[keys1] = {keys2: x_test_sim_rmsd[keys1][keys2]}\n",
    "    else:\n",
    "         \n",
    "        idx_lst = random.sample(list(range(len1)), 10)\n",
    "        \n",
    "        for idx in idx_lst:\n",
    "            keys1,keys2 = lst_pair[idx]\n",
    "            if keys1 in x_test_sim_rmsd.keys():\n",
    "                if keys2 in x_test_sim_rmsd[keys1].keys():\n",
    "                    lst_dict_x[keys1] = {keys2: x_test_sim_rmsd[keys1][keys2]}\n",
    "                else:\n",
    "                    lst_dict_x[keys2] = {keys1: x_test_sim_rmsd[keys2][keys1]}\n",
    "        \n",
    "            else:\n",
    "                if keys1 in x_test_sim_rmsd[keys2].keys():\n",
    "                    lst_dict_x[keys2] = {keys1: x_test_sim_rmsd[keys2][keys1]}\n",
    "                else:\n",
    "                    lst_dict_x[keys1] = {keys2: x_test_sim_rmsd[keys1][keys2]}"
   ]
  },
  {
   "cell_type": "code",
   "execution_count": 15,
   "id": "160bcde3-9627-417e-b599-95c2972a6848",
   "metadata": {
    "tags": []
   },
   "outputs": [],
   "source": [
    "lst_dict_x = dict_x_test "
   ]
  },
  {
   "cell_type": "code",
   "execution_count": 41,
   "id": "64ec56d4-ff29-4bac-ad93-b46814ac7337",
   "metadata": {
    "tags": []
   },
   "outputs": [
    {
     "name": "stdout",
     "output_type": "stream",
     "text": [
      "2bcx_A 1cm4_A 17266 {11155: [['A'], ['A'], [6.585686544675358, 0.2222222222222222]]} 9805\n",
      "6b8n_B 4byf_B 17266 {21465: [['B'], ['B'], [7.584153092331256, 0.09497964721845319]]} 2696\n",
      "6k4r_C 6paw_C 17266 {16004: [['A'], ['A'], [12.225381775151913, 0.19242273180458624]]} 13098\n",
      "6xxf_A 6k4l_C 17266 {22453: [['A'], ['A'], [12.049541576695795, 0.024054982817869417]]} 21246\n",
      "3bxl_A 1k90_B 17266 {14190: [['A'], ['B'], [13.348811336655693, 0.03913894324853229]]} 762\n",
      "2x0g_B 2f3y_A 17266 {24491: [['B'], ['A'], [3.462889652528007, 0.05970149253731343]]} 5528\n",
      "6ynu_A 1sk6_B 17266 {20905: [['A'], ['B'], [8.774017129855627, 0.04296875]]} 17475\n",
      "1sk6_B 2f3y_A 17266 {24491: [['B'], ['A'], [13.49808264607841, 0.041176470588235294]]} 20905\n",
      "6b8l_B 6sz5_A 17266 {13321: [['B'], ['C'], [14.025339529679249, 0.0942622950819672]]} 4554\n",
      "4byf_B 4jpz_C 17266 {24697: [['B'], ['A'], [4.759281827736864, 0.15491183879093198]]} 21465\n",
      "4mgi_B 6uzk_B 25072 {12285: [['B'], ['B'], [3.314856303062204, 0.20665083135391923]]} 2839\n",
      "4mh0_B 4hdq_B 25072 {25700: [['B'], ['A'], [3.3689753586124374, 0.20665083135391923]]} 3803\n",
      "4mgy_B 4hdq_B 25072 {25700: [['B'], ['A'], [3.370697910933686, 0.20665083135391923]]} 14879\n",
      "6apx_A 6d67_A 289 {19561: [['A'], ['A'], [12.149138492347676, 0.1935483870967742]]} 2137\n",
      "4hgk_A 5vnw_A 20936 {12357: [['A'], ['B'], [3.796644843102392, 0.24102564102564103]]} 1312\n",
      "6g16_A 4pby_A 4377 {21044: [['A'], ['B'], [3.4389525824557996, 0.1836734693877551]]} 1651\n",
      "2dsp_B 6ff3_B 4842 {14861: [['B'], ['B'], [3.9853947056891093, 0.17192982456140352]]} 6546\n",
      "6a3v_B 6a3w_C 2077 {10791: [['B'], ['A'], [5.462842527696574, 0.1953125]]} 705\n",
      "3w5k_A 2p8q_A 22950 {18528: [['A'], ['A'], [8.517597642360377, 0.11355311355311355]]} 726\n",
      "1mje_B 3t5x_B 14482 {19885: [['B'], ['B'], [5.50951362584901, 0.17355371900826447]]} 4979\n",
      "3fwb_C 3kik_A 1197 {16070: [['B'], ['A'], [7.872652097792855, 0.18309859154929578]]} 4989\n",
      "3sbw_C 6pv9_A 190 {22004: [['A'], ['A'], [3.3847161404901027, 0.08064516129032258]]} 4631\n",
      "5jp1_A 5jp3_A 24618 {8700: [['A'], ['A'], [4.303697471910743, 0.2198581560283688]]} 6515\n"
     ]
    }
   ],
   "source": [
    "for i in lst_dict_x:\n",
    "    for j in lst_dict_x[i]:\n",
    "        print(x_test[i][\"name\"],x_test[j][\"name\"],lst_chain_cluster[x_test[i][\"name\"]],lst_dict_x[i],i)"
   ]
  },
  {
   "cell_type": "code",
   "execution_count": null,
   "id": "5d2e7011-5e06-4b8a-b59e-10fe0c63c234",
   "metadata": {},
   "outputs": [],
   "source": []
  },
  {
   "cell_type": "code",
   "execution_count": 100,
   "id": "f6291f80-c275-44a5-900d-4bac21c1321e",
   "metadata": {
    "tags": []
   },
   "outputs": [],
   "source": [
    "torch.save(lst_dict_x,\"dict_x_test_30_159.pt\")"
   ]
  },
  {
   "cell_type": "code",
   "execution_count": null,
   "id": "a0492fc6-0acd-460d-9ce8-6471dbb1ae83",
   "metadata": {},
   "outputs": [],
   "source": []
  }
 ],
 "metadata": {
  "kernelspec": {
   "display_name": "Python (esm_dds)",
   "language": "python",
   "name": "esm_dds"
  },
  "language_info": {
   "codemirror_mode": {
    "name": "ipython",
    "version": 3
   },
   "file_extension": ".py",
   "mimetype": "text/x-python",
   "name": "python",
   "nbconvert_exporter": "python",
   "pygments_lexer": "ipython3",
   "version": "3.7.16"
  }
 },
 "nbformat": 4,
 "nbformat_minor": 5
}
